{
  "cells": [
    {
      "cell_type": "raw",
      "metadata": {},
      "source": [
        "---\n",
        "title: \"gongtimer\"\n",
        "subtitle: \"Using the `gongtimer` quarto extension to create an elapsed time bar\"\n",
        "author: \"Andrie de Vries\"\n",
        "format: \n",
        "  revealjs:\n",
        "    gongtimer:\n",
        "      - allottedTime: 1 # time in minutes\n",
        "revealjs-plugins: \n",
        "  - gongtimer\n",
        "---"
      ],
      "id": "063e7a8e"
    },
    {
      "cell_type": "markdown",
      "metadata": {},
      "source": [
        "## This adds a time bar\n",
        "\n",
        "The time bar is at the bottom of your screen.\n",
        "\n",
        "This time progress bar gives a visual indication of the elapsed and remaining time.\n",
        "\n",
        "The default value is set to 5 minutes, for typical lightning talks, but you can change this in the quarto yaml header.\n",
        "\n",
        "## Changing the options\n",
        "\n",
        "To change default options, use:\n",
        "\n",
        "``` yaml\n",
        "format: \n",
        "  revealjs:\n",
        "    gongtimer:\n",
        "      - allottedTime: 1 # time in minutes\n",
        "revealjs-plugins: \n",
        "  - gongtimer\n",
        "```\n",
        "\n",
        "\n",
        "## Changing the options\n",
        "\n",
        "You can change these settings:\n",
        "\n",
        "\n",
        "```{css}\n",
        ".smaller {\n",
        "  font-size: 0.5em;\n",
        "}\n",
        "\n",
        "```\n",
        "\n",
        "\n",
        ":::{.smaller}\n",
        "\n",
        "| Option              | Description                                                    |\n",
        "|---------------------|----------------------------------------------------------------|\n",
        "| `allottedTime`      | Time in minutes for the presentation (default is 5 minutes)    |\n",
        "| `progressBarHeight` | Height (in pixels) of the page / time progress bar             |\n",
        "| `barColor`          | Bar color, expressed as hex `#00ff00` or `rgb(0, 255, 0)`  |\n",
        "\n",
        ":::\n",
        "\n",
        "## Why is it called `gongtimer`?\n",
        "\n",
        "Because of a long tradition at RStudio / Posit where lightning talks are timed out by Hadley beating on a gong."
      ],
      "id": "9d2a9d6d"
    }
  ],
  "metadata": {
    "kernelspec": {
      "display_name": "Python 3",
      "language": "python",
      "name": "python3"
    }
  },
  "nbformat": 4,
  "nbformat_minor": 5
}